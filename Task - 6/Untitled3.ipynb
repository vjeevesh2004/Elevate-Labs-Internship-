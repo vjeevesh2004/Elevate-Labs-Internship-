{
  "nbformat": 4,
  "nbformat_minor": 0,
  "metadata": {
    "colab": {
      "provenance": []
    },
    "kernelspec": {
      "name": "python3",
      "display_name": "Python 3"
    },
    "language_info": {
      "name": "python"
    }
  },
  "cells": [
    {
      "cell_type": "code",
      "execution_count": 2,
      "metadata": {
        "id": "QaoRLSeWnZXS"
      },
      "outputs": [],
      "source": [
        "import sqlite3"
      ]
    },
    {
      "cell_type": "code",
      "source": [
        "-- Monthly Sales Trend Analysis\n",
        "SELECT\n",
        "    EXTRACT(YEAR FROM order_date) AS year,\n",
        "    EXTRACT(MONTH FROM order_date) AS month,\n",
        "    SUM(amount) AS total_revenue,\n",
        "    COUNT(DISTINCT order_id) AS order_volume\n",
        "FROM\n",
        "    online_sales\n",
        "GROUP BY\n",
        "    EXTRACT(YEAR FROM order_date),\n",
        "    EXTRACT(MONTH FROM order_date)\n",
        "ORDER BY\n",
        "    year,\n",
        "    month;"
      ],
      "metadata": {
        "colab": {
          "base_uri": "https://localhost:8080/",
          "height": 106
        },
        "id": "aRSs4Yrtndcf",
        "outputId": "b57ae569-8938-48d0-ed7e-098013107516"
      },
      "execution_count": 4,
      "outputs": [
        {
          "output_type": "error",
          "ename": "SyntaxError",
          "evalue": "invalid syntax (ipython-input-4-1446712912.py, line 1)",
          "traceback": [
            "\u001b[0;36m  File \u001b[0;32m\"/tmp/ipython-input-4-1446712912.py\"\u001b[0;36m, line \u001b[0;32m1\u001b[0m\n\u001b[0;31m    -- Monthly Sales Trend Analysis\u001b[0m\n\u001b[0m               ^\u001b[0m\n\u001b[0;31mSyntaxError\u001b[0m\u001b[0;31m:\u001b[0m invalid syntax\n"
          ]
        }
      ]
    },
    {
      "cell_type": "code",
      "source": [
        "WHERE EXTRACT(YEAR FROM order_date) = 2024"
      ],
      "metadata": {
        "colab": {
          "base_uri": "https://localhost:8080/",
          "height": 106
        },
        "id": "thj1ZOFcp-Yx",
        "outputId": "034cebb7-0eec-49da-8ed5-17935765a4f2"
      },
      "execution_count": 5,
      "outputs": [
        {
          "output_type": "error",
          "ename": "SyntaxError",
          "evalue": "invalid syntax (ipython-input-5-1909636887.py, line 1)",
          "traceback": [
            "\u001b[0;36m  File \u001b[0;32m\"/tmp/ipython-input-5-1909636887.py\"\u001b[0;36m, line \u001b[0;32m1\u001b[0m\n\u001b[0;31m    WHERE EXTRACT(YEAR FROM order_date) = 2024\u001b[0m\n\u001b[0m          ^\u001b[0m\n\u001b[0;31mSyntaxError\u001b[0m\u001b[0;31m:\u001b[0m invalid syntax\n"
          ]
        }
      ]
    },
    {
      "cell_type": "code",
      "source": [
        "-- Filtered for year 2024\n",
        "SELECT\n",
        "    EXTRACT(YEAR FROM order_date) AS year,\n",
        "    EXTRACT(MONTH FROM order_date) AS month,\n",
        "    SUM(amount) AS total_revenue,\n",
        "    COUNT(DISTINCT order_id) AS order_volume\n",
        "FROM\n",
        "    online_sales\n",
        "WHERE\n",
        "    EXTRACT(YEAR FROM order_date) = 2024\n",
        "GROUP BY\n",
        "    EXTRACT(YEAR FROM order_date),\n",
        "    EXTRACT(MONTH FROM order_date)\n",
        "ORDER BY\n",
        "    year,\n",
        "    month;"
      ],
      "metadata": {
        "colab": {
          "base_uri": "https://localhost:8080/",
          "height": 106
        },
        "id": "onNvBUXCqAoP",
        "outputId": "181f3d43-0431-40e1-905a-af96d4dbbb15"
      },
      "execution_count": 6,
      "outputs": [
        {
          "output_type": "error",
          "ename": "SyntaxError",
          "evalue": "invalid syntax (ipython-input-6-2635396166.py, line 1)",
          "traceback": [
            "\u001b[0;36m  File \u001b[0;32m\"/tmp/ipython-input-6-2635396166.py\"\u001b[0;36m, line \u001b[0;32m1\u001b[0m\n\u001b[0;31m    -- Filtered for year 2024\u001b[0m\n\u001b[0m                ^\u001b[0m\n\u001b[0;31mSyntaxError\u001b[0m\u001b[0;31m:\u001b[0m invalid syntax\n"
          ]
        }
      ]
    },
    {
      "cell_type": "code",
      "source": [
        "### 🅰️ a. Extract the month from the order date.\n",
        "Edit\n",
        "SELECT\n",
        "    EXTRACT(MONTH FROM order_date) AS month\n",
        "FROM\n",
        "    online_sales;"
      ],
      "metadata": {
        "colab": {
          "base_uri": "https://localhost:8080/",
          "height": 106
        },
        "id": "U8AeERkhqCzt",
        "outputId": "e976750d-e337-4baf-86b6-d1bb7231c1cf"
      },
      "execution_count": 7,
      "outputs": [
        {
          "output_type": "error",
          "ename": "IndentationError",
          "evalue": "unexpected indent (ipython-input-7-1106302201.py, line 4)",
          "traceback": [
            "\u001b[0;36m  File \u001b[0;32m\"/tmp/ipython-input-7-1106302201.py\"\u001b[0;36m, line \u001b[0;32m4\u001b[0m\n\u001b[0;31m    EXTRACT(MONTH FROM order_date) AS month\u001b[0m\n\u001b[0m    ^\u001b[0m\n\u001b[0;31mIndentationError\u001b[0m\u001b[0;31m:\u001b[0m unexpected indent\n"
          ]
        }
      ]
    },
    {
      "cell_type": "code",
      "source": [
        "### 🅱️ b. Extract the year from the order date.\n",
        "SELECT\n",
        "    EXTRACT(YEAR FROM order_date) AS year\n",
        "FROM\n",
        "    online_sales;"
      ],
      "metadata": {
        "colab": {
          "base_uri": "https://localhost:8080/",
          "height": 106
        },
        "id": "N9pjrzy6qH_9",
        "outputId": "ae39d7d3-5099-44ae-a936-15ce7fd5f226"
      },
      "execution_count": 8,
      "outputs": [
        {
          "output_type": "error",
          "ename": "IndentationError",
          "evalue": "unexpected indent (ipython-input-8-3667035736.py, line 3)",
          "traceback": [
            "\u001b[0;36m  File \u001b[0;32m\"/tmp/ipython-input-8-3667035736.py\"\u001b[0;36m, line \u001b[0;32m3\u001b[0m\n\u001b[0;31m    EXTRACT(YEAR FROM order_date) AS year\u001b[0m\n\u001b[0m    ^\u001b[0m\n\u001b[0;31mIndentationError\u001b[0m\u001b[0;31m:\u001b[0m unexpected indent\n"
          ]
        }
      ]
    },
    {
      "cell_type": "code",
      "source": [
        "### 🅲 c. Group the data by year and month.\n",
        "SELECT\n",
        "    EXTRACT(YEAR FROM order_date) AS year,\n",
        "    EXTRACT(MONTH FROM order_date) AS month\n",
        "FROM\n",
        "    online_sales\n",
        "GROUP BY\n",
        "    EXTRACT(YEAR FROM order_date),\n",
        "    EXTRACT(MONTH FROM order_date);"
      ],
      "metadata": {
        "colab": {
          "base_uri": "https://localhost:8080/",
          "height": 106
        },
        "id": "-Gd3ScWuqKyC",
        "outputId": "b742be44-f2e7-4679-dc1d-071afc8e4187"
      },
      "execution_count": 9,
      "outputs": [
        {
          "output_type": "error",
          "ename": "IndentationError",
          "evalue": "unexpected indent (ipython-input-9-3870147903.py, line 3)",
          "traceback": [
            "\u001b[0;36m  File \u001b[0;32m\"/tmp/ipython-input-9-3870147903.py\"\u001b[0;36m, line \u001b[0;32m3\u001b[0m\n\u001b[0;31m    EXTRACT(YEAR FROM order_date) AS year,\u001b[0m\n\u001b[0m    ^\u001b[0m\n\u001b[0;31mIndentationError\u001b[0m\u001b[0;31m:\u001b[0m unexpected indent\n"
          ]
        }
      ]
    },
    {
      "cell_type": "code",
      "source": [
        "### 🅳 d. Calculate the total revenue per month.\n",
        "SELECT\n",
        "    EXTRACT(YEAR FROM order_date) AS year,\n",
        "    EXTRACT(MONTH FROM order_date) AS month,\n",
        "    SUM(amount) AS total_revenue\n",
        "FROM\n",
        "    online_sales\n",
        "GROUP BY\n",
        "    EXTRACT(YEAR FROM order_date),\n",
        "    EXTRACT(MONTH FROM order_date);"
      ],
      "metadata": {
        "colab": {
          "base_uri": "https://localhost:8080/",
          "height": 106
        },
        "id": "SDOqcrdjqRqD",
        "outputId": "b3be0ca4-2466-4634-89cd-27faba44dc1b"
      },
      "execution_count": 10,
      "outputs": [
        {
          "output_type": "error",
          "ename": "IndentationError",
          "evalue": "unexpected indent (ipython-input-10-1646734535.py, line 3)",
          "traceback": [
            "\u001b[0;36m  File \u001b[0;32m\"/tmp/ipython-input-10-1646734535.py\"\u001b[0;36m, line \u001b[0;32m3\u001b[0m\n\u001b[0;31m    EXTRACT(YEAR FROM order_date) AS year,\u001b[0m\n\u001b[0m    ^\u001b[0m\n\u001b[0;31mIndentationError\u001b[0m\u001b[0;31m:\u001b[0m unexpected indent\n"
          ]
        }
      ]
    },
    {
      "cell_type": "code",
      "source": [
        "### 🅴 e. Calculate the order volume (distinct order count) per month.\n",
        "SELECT\n",
        "    EXTRACT(YEAR FROM order_date) AS year,\n",
        "    EXTRACT(MONTH FROM order_date) AS month,\n",
        "    COUNT(DISTINCT order_id) AS order_volume\n",
        "FROM\n",
        "    online_sales\n",
        "GROUP BY\n",
        "    EXTRACT(YEAR FROM order_date),\n",
        "    EXTRACT(MONTH FROM order_date);"
      ],
      "metadata": {
        "colab": {
          "base_uri": "https://localhost:8080/",
          "height": 106
        },
        "id": "sFBREinxqU34",
        "outputId": "5cdc6065-22ad-4d01-cf19-8becfa5085b6"
      },
      "execution_count": 11,
      "outputs": [
        {
          "output_type": "error",
          "ename": "IndentationError",
          "evalue": "unexpected indent (ipython-input-11-1487802129.py, line 3)",
          "traceback": [
            "\u001b[0;36m  File \u001b[0;32m\"/tmp/ipython-input-11-1487802129.py\"\u001b[0;36m, line \u001b[0;32m3\u001b[0m\n\u001b[0;31m    EXTRACT(YEAR FROM order_date) AS year,\u001b[0m\n\u001b[0m    ^\u001b[0m\n\u001b[0;31mIndentationError\u001b[0m\u001b[0;31m:\u001b[0m unexpected indent\n"
          ]
        }
      ]
    },
    {
      "cell_type": "code",
      "source": [
        "### 🅵 f. Order the results by year and month (chronologically).\n",
        "\n",
        "SELECT\n",
        "    EXTRACT(YEAR FROM order_date) AS year,\n",
        "    EXTRACT(MONTH FROM order_date) AS month,\n",
        "    SUM(amount) AS total_revenue,\n",
        "    COUNT(DISTINCT order_id) AS order_volume\n",
        "FROM\n",
        "    online_sales\n",
        "GROUP BY\n",
        "    EXTRACT(YEAR FROM order_date),\n",
        "    EXTRACT(MONTH FROM order_date)\n",
        "ORDER BY\n",
        "    year,\n",
        "    month;"
      ],
      "metadata": {
        "colab": {
          "base_uri": "https://localhost:8080/",
          "height": 106
        },
        "id": "ARD7lV90qYGS",
        "outputId": "9591108c-d4a5-49e1-8209-cacd5447bae6"
      },
      "execution_count": 12,
      "outputs": [
        {
          "output_type": "error",
          "ename": "IndentationError",
          "evalue": "unexpected indent (ipython-input-12-1710631590.py, line 4)",
          "traceback": [
            "\u001b[0;36m  File \u001b[0;32m\"/tmp/ipython-input-12-1710631590.py\"\u001b[0;36m, line \u001b[0;32m4\u001b[0m\n\u001b[0;31m    EXTRACT(YEAR FROM order_date) AS year,\u001b[0m\n\u001b[0m    ^\u001b[0m\n\u001b[0;31mIndentationError\u001b[0m\u001b[0;31m:\u001b[0m unexpected indent\n"
          ]
        }
      ]
    },
    {
      "cell_type": "code",
      "source": [],
      "metadata": {
        "id": "7HrZtAdyqbTW"
      },
      "execution_count": null,
      "outputs": []
    }
  ]
}