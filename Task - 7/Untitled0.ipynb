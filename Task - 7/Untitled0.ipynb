{
  "nbformat": 4,
  "nbformat_minor": 0,
  "metadata": {
    "colab": {
      "provenance": []
    },
    "kernelspec": {
      "name": "python3",
      "display_name": "Python 3"
    },
    "language_info": {
      "name": "python"
    }
  },
  "cells": [
    {
      "cell_type": "code",
      "execution_count": 3,
      "metadata": {
        "id": "xVtBemMpCTsd"
      },
      "outputs": [],
      "source": [
        "import pandas as pd\n",
        "import sqlite3\n",
        "import matplotlib.pyplot as plt"
      ]
    },
    {
      "cell_type": "code",
      "source": [
        "csv_path = \"/content/product.csv\"\n",
        "df_csv = pd.read_csv(csv_path)\n",
        "print(\"CSV Preview:\\n\", df_csv.head())"
      ],
      "metadata": {
        "colab": {
          "base_uri": "https://localhost:8080/"
        },
        "id": "EkKfMRCUCYuQ",
        "outputId": "e17a3299-ca8b-4ba8-e983-47e39058fa09"
      },
      "execution_count": 4,
      "outputs": [
        {
          "output_type": "stream",
          "name": "stdout",
          "text": [
            "CSV Preview:\n",
            "    Transaction_ID        Date     Product     Category  Customer_Age Region  \\\n",
            "0               1  01-01-2024  Headphones  Accessories            58   West   \n",
            "1               2  02-01-2024  Smartwatch  Accessories            32   East   \n",
            "2               3  03-01-2024      Tablet  Electronics            65   East   \n",
            "3               4  04-01-2024  Smartwatch  Accessories            57   East   \n",
            "4               5  05-01-2024  Smartwatch  Electronics            33   West   \n",
            "\n",
            "   Quantity  Unit_Price  Total_Sales  \n",
            "0         2         520         1040  \n",
            "1         4         791         3164  \n",
            "2         1         783          783  \n",
            "3         4        1047         4188  \n",
            "4         1         380          380  \n"
          ]
        }
      ]
    },
    {
      "cell_type": "code",
      "source": [
        "# Step 2: Save to SQLite DB\n",
        "conn = sqlite3.connect(\"sales_data.db\")\n",
        "df_csv.to_sql(\"sales\", conn, if_exists=\"replace\", index=False)"
      ],
      "metadata": {
        "colab": {
          "base_uri": "https://localhost:8080/"
        },
        "id": "_jhOA-QaCi-X",
        "outputId": "9f1a14d1-c9fb-4367-f0ba-6c59bc57759b"
      },
      "execution_count": 5,
      "outputs": [
        {
          "output_type": "execute_result",
          "data": {
            "text/plain": [
              "10000"
            ]
          },
          "metadata": {},
          "execution_count": 5
        }
      ]
    },
    {
      "cell_type": "code",
      "source": [
        "# Step 3: SQL Query to Summarize Sales\n",
        "query = \"\"\"\n",
        "SELECT\n",
        "    product,\n",
        "    SUM(quantity) AS total_qty,\n",
        "    ROUND(SUM(quantity * Unit_Price), 2) AS revenue\n",
        "FROM sales\n",
        "GROUP BY product\n",
        "\"\"\""
      ],
      "metadata": {
        "id": "-GwYt9nfDAQV"
      },
      "execution_count": 11,
      "outputs": []
    },
    {
      "cell_type": "code",
      "source": [
        "df_summary = pd.read_sql_query(query, conn)\n",
        "print(\"\\nSales Summary:\\n\", df_summary)"
      ],
      "metadata": {
        "colab": {
          "base_uri": "https://localhost:8080/"
        },
        "id": "FUYrZBPCDMyI",
        "outputId": "43740c1d-6c40-4072-aa6e-ba6ffecc7545"
      },
      "execution_count": 12,
      "outputs": [
        {
          "output_type": "stream",
          "name": "stdout",
          "text": [
            "\n",
            "Sales Summary:\n",
            "       Product  total_qty    revenue\n",
            "0  Headphones       5001  3778036.0\n",
            "1      Laptop       5193  3980796.0\n",
            "2  Smartphone       4964  3781722.0\n",
            "3  Smartwatch       5042  4038680.0\n",
            "4      Tablet       4796  3711428.0\n"
          ]
        }
      ]
    },
    {
      "cell_type": "code",
      "source": [
        "df_summary.plot(kind='bar', x='Product', y='revenue', legend=False, color='orange')\n",
        "plt.title('Revenue by Product')\n",
        "plt.xlabel('Product')\n",
        "plt.ylabel('Revenue')\n",
        "plt.tight_layout()\n",
        "plt.savefig(\"sales_chart.png\")  # Optional\n",
        "plt.show()\n",
        "\n",
        "conn.close()"
      ],
      "metadata": {
        "colab": {
          "base_uri": "https://localhost:8080/",
          "height": 487
        },
        "id": "nUU445AsDEH0",
        "outputId": "0d3478db-beef-4ee4-9b51-4fcdd1af7a44"
      },
      "execution_count": 14,
      "outputs": [
        {
          "output_type": "display_data",
          "data": {
            "text/plain": [
              "<Figure size 640x480 with 1 Axes>"
            ],
            "image/png": "[encoded data removed]"
          },
          "metadata": {}
        }
      ]
    },
    {
      "cell_type": "code",
      "source": [],
      "metadata": {
        "id": "kPcUaPd_DVDn"
      },
      "execution_count": null,
      "outputs": []
    }
  ]
}